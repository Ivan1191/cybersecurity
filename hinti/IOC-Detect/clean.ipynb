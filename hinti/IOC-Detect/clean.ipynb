{
 "cells": [
  {
   "cell_type": "code",
   "execution_count": 2,
   "metadata": {},
   "outputs": [],
   "source": [
    "import numpy as np\n",
    "import pandas as pd"
   ]
  },
  {
   "cell_type": "code",
   "execution_count": 3,
   "metadata": {},
   "outputs": [],
   "source": [
    "# Read the Original Data\n",
    "train_data_path = \"../data/cti-reports-dataset/train_data\"\n",
    "test_data_path = \"../data/cti-reports-dataset/test_data\"\n",
    "train_data = pd.read_csv(\n",
    "    train_data_path,\n",
    "    sep=\"\\t\",\n",
    "    header=None,\n",
    "    names=[\"Words\", \"Tags\"],\n",
    "    encoding=\"utf-8\",\n",
    "    skip_blank_lines=False,\n",
    ")\n",
    "test_data = pd.read_csv(\n",
    "    test_data_path,\n",
    "    sep=\"\\t\",\n",
    "    header=None,\n",
    "    names=[\"Words\", \"Tags\"],\n",
    "    encoding=\"utf-8\",\n",
    "    skip_blank_lines=False,\n",
    ")"
   ]
  },
  {
   "cell_type": "code",
   "execution_count": 10,
   "metadata": {},
   "outputs": [
    {
     "name": "stdout",
     "output_type": "stream",
     "text": [
      "Train Data Shape:  (249975, 2)\n",
      "Test Data Shape:  (60404, 2)\n",
      "       Words Tags\n",
      "0      These    O\n",
      "1      pipes    O\n",
      "2  represent    O\n",
      "3        the    O\n",
      "4     server    O\n",
      "      Words Tags\n",
      "0      From    O\n",
      "1       the    O\n",
      "2        C2    O\n",
      "3  response    O\n",
      "4       the    O\n"
     ]
    }
   ],
   "source": [
    "print(\"Train Data Shape: \", train_data.shape)\n",
    "print(\"Test Data Shape: \", test_data.shape)\n",
    "print(train_data.head())\n",
    "print(test_data.head())"
   ]
  },
  {
   "cell_type": "code",
   "execution_count": 11,
   "metadata": {},
   "outputs": [],
   "source": [
    "train_data_str = []\n",
    "test_data_str = []"
   ]
  },
  {
   "cell_type": "code",
   "execution_count": 12,
   "metadata": {},
   "outputs": [],
   "source": [
    "train_datas = np.split(train_data, train_data[train_data.isnull().all(1)].index)\n",
    "for data in train_datas:\n",
    "    data.dropna(inplace=True)\n",
    "    data.reset_index(drop=True, inplace=True)\n",
    "    word, tag = data[\"Words\"].str.cat(sep=\" \"), data[\"Tags\"].str.cat(sep=\" \")\n",
    "    train_data_str.append([word, tag])\n",
    "\n",
    "test_datas = np.split(test_data, test_data[test_data.isnull().all(1)].index)\n",
    "for data in test_datas:\n",
    "    data.dropna(inplace=True)\n",
    "    data.reset_index(drop=True, inplace=True)\n",
    "    word, tag = data[\"Words\"].str.cat(sep=\" \"), data[\"Tags\"].str.cat(sep=\" \")\n",
    "    test_data_str.append([word, tag])"
   ]
  },
  {
   "cell_type": "code",
   "execution_count": 13,
   "metadata": {},
   "outputs": [],
   "source": [
    "train_data_str = pd.DataFrame(train_data_str, columns=[\"Sentences\", \"Tags\"])\n",
    "test_data_str = pd.DataFrame(test_data_str, columns=[\"Sentences\", \"Tags\"])"
   ]
  },
  {
   "cell_type": "code",
   "execution_count": 15,
   "metadata": {},
   "outputs": [
    {
     "name": "stdout",
     "output_type": "stream",
     "text": [
      "                                               Sentences  \\\n",
      "0      These pipes represent the server side for chil...   \n",
      "1                                                Meaning   \n",
      "2      If the network input does not arrive , the que...   \n",
      "3                                      Doherty , and E .   \n",
      "4      Below screen shot shows the response given to ...   \n",
      "...                                                  ...   \n",
      "10851  This suggests that attackers had prior knowled...   \n",
      "10852  Cobalt Strike1.45 and It can connect the metas...   \n",
      "10853  In order to hide the fraudulent transactions c...   \n",
      "10854  The business cycle includes what is euphemisti...   \n",
      "10855  At first glance , this looks like an ( almost ...   \n",
      "\n",
      "                                                    Tags  \n",
      "0      O O O O O O O O O O O O O O O O O O O B-malwar...  \n",
      "1                                                      O  \n",
      "2      O O O O O O O O O O O O O O O O O O O O O O O ...  \n",
      "3                                              O O O O O  \n",
      "4                                  O O O O O O O O O O O  \n",
      "...                                                  ...  \n",
      "10851                    O O O O O O O O O O O O O O O O  \n",
      "10852                              O O O O O O O O O O O  \n",
      "10853      O O O O O O O O O O O O O O O O O O O O O O O  \n",
      "10854  O O O O O O O O O O O O O O O O O O O O O O O ...  \n",
      "10855  O O O O O O O O O O O O O O O O O O O O O O O ...  \n",
      "\n",
      "[10856 rows x 2 columns]\n",
      "                                              Sentences  \\\n",
      "0     From the C2 response the URL is extracted by f...   \n",
      "1     • Fully functional remote desktop display , in...   \n",
      "2     To do so , they decided to use the BOptions si...   \n",
      "3     We are happy and hope you can join us on our d...   \n",
      "4     [ ROOT_DRIVE ] : \\Users\\Administrator\\AppData\\...   \n",
      "...                                                 ...   \n",
      "2710  Similarly , a year later in the fall of 2013 ,...   \n",
      "2711  The actual implementation has quite a few diff...   \n",
      "2712  The patch will replace 2 bytes 0x75 and 0x04 w...   \n",
      "2713                                 Links to Crambus ?   \n",
      "2714                                                      \n",
      "\n",
      "                                                   Tags  \n",
      "0     O O O O O O O O O O O O O O O O O O O O O O O ...  \n",
      "1     O O O O O O O O O O O O O O O O O O O O O O O ...  \n",
      "2                             O O O O O O O O O O O O O  \n",
      "3                             O O O O O O O O O O O O O  \n",
      "4                                   O O O O O O O O O O  \n",
      "...                                                 ...  \n",
      "2710  O O O O O O O O O O O O O O O O O O O O O O O ...  \n",
      "2711                O O O O O O O O O O O O O O O O O O  \n",
      "2712                        O O O O O O O O O O O O O O  \n",
      "2713                                            O O O O  \n",
      "2714                                                     \n",
      "\n",
      "[2715 rows x 2 columns]\n"
     ]
    }
   ],
   "source": [
    "print(train_data_str)\n",
    "print(test_data_str)"
   ]
  },
  {
   "cell_type": "code",
   "execution_count": null,
   "metadata": {},
   "outputs": [],
   "source": [
    "train_data_str.to_csv(\"./hinti/data/cti_train_data.csv\", index=False)\n",
    "test_data_str.to_csv(\"./hinti/data/cti_test_data.csv\", index=False)"
   ]
  }
 ],
 "metadata": {
  "kernelspec": {
   "display_name": "Python 3",
   "language": "python",
   "name": "python3"
  },
  "language_info": {
   "codemirror_mode": {
    "name": "ipython",
    "version": 3
   },
   "file_extension": ".py",
   "mimetype": "text/x-python",
   "name": "python",
   "nbconvert_exporter": "python",
   "pygments_lexer": "ipython3",
   "version": "3.8.10"
  },
  "orig_nbformat": 4
 },
 "nbformat": 4,
 "nbformat_minor": 2
}
